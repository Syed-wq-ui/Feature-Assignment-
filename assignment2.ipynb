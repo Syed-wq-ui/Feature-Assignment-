{
  "nbformat": 4,
  "nbformat_minor": 0,
  "metadata": {
    "colab": {
      "provenance": []
    },
    "kernelspec": {
      "name": "python3",
      "display_name": "Python 3"
    },
    "language_info": {
      "name": "python"
    }
  },
  "cells": [
    {
      "cell_type": "code",
      "execution_count": null,
      "metadata": {
        "id": "l_FwBqRJvfqT"
      },
      "outputs": [],
      "source": []
    },
    {
      "cell_type": "markdown",
      "source": [
        "ANS1 : a parameter is an internal variable within a model that is learned from the data during training, and its values are adjusted to improve the model's performance.\n",
        "\n",
        "ANS2 :correlation refers to a statistical measure that describes the relationship between two variables. It indicates how one variable changes in relation to another.\n",
        "\n",
        "A negative correlation, also known as an inverse correlation, means that as one variable increases, the other variable decreases, and vice versa\n",
        "\n",
        "ANS3 : Machine learning (ML) is a branch of artificial intelligence (AI) that enables computers to learn from data without being explicitly programmed. It involves algorithms that analyze data, identify patterns, and make predictions or decisions based on those learned insights.\n",
        "\n",
        "The key components of machine learning include data, algorithms, models, and evaluation.\n",
        "\n",
        "ANS4 :A model's loss value indicates how accurate its predictions are. A lower loss value generally signifies a better model, as it indicates smaller discrepancies between the model's predictions and the actual data\n",
        "\n",
        "ANS5 :continuous variables represent data that can take any value within a given range, while categorical variables represent data that falls into distinct groups or categories.\n",
        "\n",
        "ANS6:Handling categorical variables in machine learning involves converting non-numeric categories into a numerical format that machine learning algorithms can understand.\n",
        "\n",
        "Common techniques include one-hot encoding, label encoding, ordinal encoding, and target encoding.\n",
        "\n",
        "ANS7 :Training and Testing a data set refers to the process of splitting your data into two distinct sets: one for training the model and another for evaluating its performance. The training set is used to teach the model how to learn patterns from data, while the testing set (or validation set) provides an unbiased measure of how well the model generalizes to unseen data.\n",
        "\n",
        "ANS8 :SKlearn preprocessing refers to the set of tools and techniques provided by the scikit-learn library in Python for transforming raw data into a format suitable for machine learning algorithms. It involves various methods to modify data before feeding it into a model.\n",
        "\n",
        "ANS9 :The test set is a portion of data held back from the training process of a machine learning model. This set is used to evaluate the model's performance on unseen data after it has been trained.\n",
        "\n",
        "ANS10 :In Python, data is typically split for training and testing using the train_test_split function from the scikit-learn library. This function divides your data into training and testing sets, enabling you to train your model on the training data and evaluate its performance on the unseen testing data.\n",
        "\n",
        "start by clearly defining the problem and its goal, then collect and prepare the necessary data, choose an appropriate algorithm, train and evaluate the model, and finally, make predictions and consider operationalization.\n",
        "\n",
        "ANS11 :Before fitting a model, Exploratory Data Analysis (EDA) involves a range of steps to understand and prepare your data. This includes data loading, cleaning, and analysis to ensure the model is built on a reliable and insightful foundation.\n",
        "\n",
        "ANS12 :correlation refers to a statistical measure that describes the relationship between two variables. It indicates how one variable changes in relation to another.\n",
        "\n",
        "ANS13 :A negative correlation, also known as an inverse correlation, means that as one variable increases, the other variable decreases, and vice versa\n",
        "\n",
        "ANS14:To use the corrcoef() function, you need to pass in two arrays of data, one for each variable. The function will return a correlation matrix, which is a square matrix where the diagonal elements are always 1 and the off-diagonal elements indicate the correlations between different variables.\n",
        "\n",
        "ANS15 :Causation means that one event directly leads to another, while correlation simply means that two things happen together, but one doesn't necessarily cause the other.\n",
        "\n",
        "EXAMPLE :ice cream sales and crime rates might be correlated, but that doesn't mean ice cream causes crime; a third factor like warmer weather could increase both.\n",
        "\n",
        "ANS16 :An optimizer is an algorithm that adjusts model parameters (like weights and biases) to minimize a loss function, effectively training a machine learning model. It guides the model towards a solution by iteratively finding the best values for its parameters. Various types of optimizers exist, each with different strategies for parameter updates, like stochastic gradient descent (SGD), Adam, and AdaGrad.\n",
        "\n",
        "ANS17 :sklearn.linear_model is a module within the scikit-learn (sklearn) library in Python that provides a collection of tools for linear modeling in machine learning. Linear models are a fundamental class of algorithms that assume a linear relationship between the input features and the target variable. They are widely used due to their simplicity and interpretability.\n",
        "\n",
        "ANS18 :model. fit() function is used to train a machine learning model for a fixed number of epochs (iterations over the entire dataset).\n",
        "\n",
        "ANS19 :model. predict() is used to generate predictions from the trained model based on new input data. It does not require true labels and does not compute any metrics.\n",
        "\n",
        "ANS20 :variables can be broadly classified as either continuous or categorical. Continuous variables can take on any value within a specified range, while categorical variables represent distinct categories or groups.\n",
        "\n",
        "ANS21 :Feature scaling is a data preprocessing technique that transforms the numerical values of features in a dataset to a common scale.\n",
        "\n",
        "ANS22 :Data scaling is a crucial preprocessing step in machine learning to ensure that all features contribute equally to the model's learning process.\n",
        "\n",
        "ANS23 :sklearn.preprocessing is a module in the scikit-learn library that provides functions and classes for transforming raw data into a format suitable for machine learning models.\n",
        "\n",
        "ANS24 :To perform a train-test split, use libraries like scikit-learn in Python. Import the `train_test_split` function, specify the dataset, and set the test size (e.g., 20%). This function randomly divides the data into training and testing sets, preserving the distribution of classes or outcomes.\n",
        "\n",
        "ANS 25:Coding is the process of organizing and classifying this data into categories or codes to make it easier to analyze and understand."
      ],
      "metadata": {
        "id": "QZRYh720vmED"
      }
    },
    {
      "cell_type": "markdown",
      "source": [],
      "metadata": {
        "id": "CYS2DLBlAhiQ"
      }
    }
  ]
}